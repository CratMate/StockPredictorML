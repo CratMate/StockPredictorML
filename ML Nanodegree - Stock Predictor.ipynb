{
 "cells": [
  {
   "cell_type": "markdown",
   "metadata": {},
   "source": [
    "# Stock Predictor for Apple stock (APPL)"
   ]
  },
  {
   "cell_type": "code",
   "execution_count": 1,
   "metadata": {},
   "outputs": [
    {
     "name": "stderr",
     "output_type": "stream",
     "text": [
      "Using Theano backend.\n"
     ]
    }
   ],
   "source": [
    "import numpy as np\n",
    "import pandas as pd\n",
    "import matplotlib.pyplot as plt\n",
    "import time\n",
    "import keras\n",
    "%matplotlib inline"
   ]
  },
  {
   "cell_type": "code",
   "execution_count": 2,
   "metadata": {},
   "outputs": [
    {
     "name": "stdout",
     "output_type": "stream",
     "text": [
      "False\n"
     ]
    },
    {
     "data": {
      "text/html": [
       "<div>\n",
       "<style>\n",
       "    .dataframe thead tr:only-child th {\n",
       "        text-align: right;\n",
       "    }\n",
       "\n",
       "    .dataframe thead th {\n",
       "        text-align: left;\n",
       "    }\n",
       "\n",
       "    .dataframe tbody tr th {\n",
       "        vertical-align: top;\n",
       "    }\n",
       "</style>\n",
       "<table border=\"1\" class=\"dataframe\">\n",
       "  <thead>\n",
       "    <tr style=\"text-align: right;\">\n",
       "      <th></th>\n",
       "      <th>Date</th>\n",
       "      <th>Close</th>\n",
       "      <th>Adj Close</th>\n",
       "      <th>Volume</th>\n",
       "    </tr>\n",
       "  </thead>\n",
       "  <tbody>\n",
       "    <tr>\n",
       "      <th>0</th>\n",
       "      <td>2/7/2009</td>\n",
       "      <td>140.020004</td>\n",
       "      <td>18.066357</td>\n",
       "      <td>92619800</td>\n",
       "    </tr>\n",
       "    <tr>\n",
       "      <th>1</th>\n",
       "      <td>6/7/2009</td>\n",
       "      <td>138.610001</td>\n",
       "      <td>17.884430</td>\n",
       "      <td>124672100</td>\n",
       "    </tr>\n",
       "    <tr>\n",
       "      <th>2</th>\n",
       "      <td>7/7/2009</td>\n",
       "      <td>135.399994</td>\n",
       "      <td>17.470257</td>\n",
       "      <td>115399200</td>\n",
       "    </tr>\n",
       "    <tr>\n",
       "      <th>3</th>\n",
       "      <td>8/7/2009</td>\n",
       "      <td>137.220001</td>\n",
       "      <td>17.705082</td>\n",
       "      <td>143982300</td>\n",
       "    </tr>\n",
       "    <tr>\n",
       "      <th>4</th>\n",
       "      <td>9/7/2009</td>\n",
       "      <td>136.360001</td>\n",
       "      <td>17.594120</td>\n",
       "      <td>85756300</td>\n",
       "    </tr>\n",
       "  </tbody>\n",
       "</table>\n",
       "</div>"
      ],
      "text/plain": [
       "       Date       Close  Adj Close     Volume\n",
       "0  2/7/2009  140.020004  18.066357   92619800\n",
       "1  6/7/2009  138.610001  17.884430  124672100\n",
       "2  7/7/2009  135.399994  17.470257  115399200\n",
       "3  8/7/2009  137.220001  17.705082  143982300\n",
       "4  9/7/2009  136.360001  17.594120   85756300"
      ]
     },
     "execution_count": 2,
     "metadata": {},
     "output_type": "execute_result"
    }
   ],
   "source": [
    "prices_dataset =  pd.read_csv('AAPL.csv', header=0)\n",
    "print prices_dataset.isnull().any().any()  #Check if there are any NaN values\n",
    "prices_dataset = prices_dataset.drop(['Open','High','Low'], axis = 1)\n",
    "prices_dataset.head()"
   ]
  },
  {
   "cell_type": "markdown",
   "metadata": {},
   "source": [
    "Read the PE_ratio and join it with the dataset dataframe above. Since P/E is a quarterly figure we will join it with the dates that fall within that quarter."
   ]
  },
  {
   "cell_type": "code",
   "execution_count": 3,
   "metadata": {
    "collapsed": true
   },
   "outputs": [],
   "source": [
    "PE_ratio =  pd.read_csv('APPL_Price_to_Earnings.csv', header=0)\n",
    "\n",
    "from datetime import datetime as dt\n",
    "#assing P/E ratio to each date within the quarter\n",
    "PE = pd.Series(data = 0.0, index = prices_dataset.index, dtype = float)\n",
    "\n",
    "for inx in range(len(prices_dataset.index)):\n",
    "    for jnx in range(len(PE_ratio.index)): \n",
    "        if dt.strptime(prices_dataset['Date'][inx], \"%d/%m/%Y\")>dt.strptime(PE_ratio['Dates'][jnx], \"%d/%m/%Y\"):\n",
    "            PE[inx] = PE_ratio['Price to Earnings'][jnx]\n",
    "\n",
    "prices_dataset['PE'] = PE"
   ]
  },
  {
   "cell_type": "markdown",
   "metadata": {
    "collapsed": true
   },
   "source": [
    "This data set ranges from 2 July 2009 to 30 June 2017 which is a total of 8 years and consists of the closing price, the adjusted close, volume and P/E ratio. We will use these values to form our features. Our features are a Adjusted close price to a 5 day moving average of Adjusted Close, MACD(Moving average convergence divergence) and the P/E ratio. The adjusted closing price is the price which is adjusted for corporate actions such as stock splits in comparison with the day's closing price. The MACD is a technical indicator used to indicate momentum of the stock. A high positive value indicates a strong upward trend while a negative value with high absolute value indicates a strong downtrend. For more information you can refer to http://stockcharts.com/school/doku.php?id=chart_school:technical_indicators:moving_average_convergence_divergence_macd    \n",
    "PE ratio is a common metric to analyse value of the stock. It is the ratio of the price of the stock to the quarterly earnings of the company. "
   ]
  },
  {
   "cell_type": "code",
   "execution_count": 4,
   "metadata": {},
   "outputs": [
    {
     "data": {
      "text/html": [
       "<div>\n",
       "<style>\n",
       "    .dataframe thead tr:only-child th {\n",
       "        text-align: right;\n",
       "    }\n",
       "\n",
       "    .dataframe thead th {\n",
       "        text-align: left;\n",
       "    }\n",
       "\n",
       "    .dataframe tbody tr th {\n",
       "        vertical-align: top;\n",
       "    }\n",
       "</style>\n",
       "<table border=\"1\" class=\"dataframe\">\n",
       "  <thead>\n",
       "    <tr style=\"text-align: right;\">\n",
       "      <th></th>\n",
       "      <th>Date</th>\n",
       "      <th>Close</th>\n",
       "      <th>Adj Close</th>\n",
       "      <th>Volume</th>\n",
       "      <th>PE</th>\n",
       "      <th>daily_returns</th>\n",
       "      <th>AdjClose_ma</th>\n",
       "      <th>AdjClose_to_ma</th>\n",
       "      <th>MACD</th>\n",
       "    </tr>\n",
       "  </thead>\n",
       "  <tbody>\n",
       "    <tr>\n",
       "      <th>0</th>\n",
       "      <td>7/8/2009</td>\n",
       "      <td>165.509995</td>\n",
       "      <td>21.355257</td>\n",
       "      <td>96838700</td>\n",
       "      <td>16.22</td>\n",
       "      <td>1.009761</td>\n",
       "      <td>21.328419</td>\n",
       "      <td>1.001258</td>\n",
       "      <td>0.499441</td>\n",
       "    </tr>\n",
       "    <tr>\n",
       "      <th>1</th>\n",
       "      <td>10/8/2009</td>\n",
       "      <td>164.720001</td>\n",
       "      <td>21.253325</td>\n",
       "      <td>75073600</td>\n",
       "      <td>16.22</td>\n",
       "      <td>0.995227</td>\n",
       "      <td>21.284292</td>\n",
       "      <td>0.998545</td>\n",
       "      <td>0.483160</td>\n",
       "    </tr>\n",
       "    <tr>\n",
       "      <th>2</th>\n",
       "      <td>11/8/2009</td>\n",
       "      <td>162.830002</td>\n",
       "      <td>21.009460</td>\n",
       "      <td>88835600</td>\n",
       "      <td>16.22</td>\n",
       "      <td>0.988526</td>\n",
       "      <td>21.214100</td>\n",
       "      <td>0.990354</td>\n",
       "      <td>0.447396</td>\n",
       "    </tr>\n",
       "    <tr>\n",
       "      <th>3</th>\n",
       "      <td>12/8/2009</td>\n",
       "      <td>165.309998</td>\n",
       "      <td>21.329453</td>\n",
       "      <td>111267800</td>\n",
       "      <td>16.22</td>\n",
       "      <td>1.015231</td>\n",
       "      <td>21.219262</td>\n",
       "      <td>1.005193</td>\n",
       "      <td>0.437357</td>\n",
       "    </tr>\n",
       "    <tr>\n",
       "      <th>4</th>\n",
       "      <td>13/8/2009</td>\n",
       "      <td>168.419998</td>\n",
       "      <td>21.730726</td>\n",
       "      <td>109995200</td>\n",
       "      <td>16.22</td>\n",
       "      <td>1.018813</td>\n",
       "      <td>21.335644</td>\n",
       "      <td>1.018517</td>\n",
       "      <td>0.453587</td>\n",
       "    </tr>\n",
       "  </tbody>\n",
       "</table>\n",
       "</div>"
      ],
      "text/plain": [
       "        Date       Close  Adj Close     Volume     PE  daily_returns  \\\n",
       "0   7/8/2009  165.509995  21.355257   96838700  16.22       1.009761   \n",
       "1  10/8/2009  164.720001  21.253325   75073600  16.22       0.995227   \n",
       "2  11/8/2009  162.830002  21.009460   88835600  16.22       0.988526   \n",
       "3  12/8/2009  165.309998  21.329453  111267800  16.22       1.015231   \n",
       "4  13/8/2009  168.419998  21.730726  109995200  16.22       1.018813   \n",
       "\n",
       "   AdjClose_ma  AdjClose_to_ma      MACD  \n",
       "0    21.328419        1.001258  0.499441  \n",
       "1    21.284292        0.998545  0.483160  \n",
       "2    21.214100        0.990354  0.447396  \n",
       "3    21.219262        1.005193  0.437357  \n",
       "4    21.335644        1.018517  0.453587  "
      ]
     },
     "execution_count": 4,
     "metadata": {},
     "output_type": "execute_result"
    }
   ],
   "source": [
    "# We will form our features. On top of it we will also form a measure of daily returns.\n",
    "daily_returns = prices_dataset['Adj Close'].pct_change(1) # 1 for ONE DAY lookback\n",
    "prices_dataset['daily_returns'] = daily_returns+1.0 #we want pct change!!\n",
    "\n",
    "#moving average of the adjusted close\n",
    "prices_dataset['AdjClose_ma'] = prices_dataset['Adj Close'].rolling(window=5,center=False).mean() #cancel out noise\n",
    "\n",
    "#Calculate AdjClose/moving average. This shall be one of our features\n",
    "prices_dataset['AdjClose_to_ma'] = prices_dataset['Adj Close']/prices_dataset['AdjClose_ma']\n",
    "\n",
    "#Calculate MACD. EWMA26 is the 26 day exponentially weighted moving average.\n",
    "EWMA26 = prices_dataset['Adj Close'].ewm(ignore_na=False,span=26,min_periods=26,adjust=True).mean()\n",
    "EWMA12 = prices_dataset['Adj Close'].ewm(ignore_na=False,span=12,min_periods=12,adjust=True).mean()\n",
    "prices_dataset['MACD'] = EWMA12 - EWMA26\n",
    "\n",
    "#drop na values\n",
    "APPL_df = prices_dataset.dropna(axis=0, how='any')\n",
    "APPL_df = (APPL_df.reset_index()).drop('index',axis = 1)\n",
    "APPL_df.head()"
   ]
  },
  {
   "cell_type": "markdown",
   "metadata": {},
   "source": [
    "# Describing the data"
   ]
  },
  {
   "cell_type": "code",
   "execution_count": 5,
   "metadata": {},
   "outputs": [
    {
     "data": {
      "text/html": [
       "<div>\n",
       "<style>\n",
       "    .dataframe thead tr:only-child th {\n",
       "        text-align: right;\n",
       "    }\n",
       "\n",
       "    .dataframe thead th {\n",
       "        text-align: left;\n",
       "    }\n",
       "\n",
       "    .dataframe tbody tr th {\n",
       "        vertical-align: top;\n",
       "    }\n",
       "</style>\n",
       "<table border=\"1\" class=\"dataframe\">\n",
       "  <thead>\n",
       "    <tr style=\"text-align: right;\">\n",
       "      <th></th>\n",
       "      <th>Close</th>\n",
       "      <th>Adj Close</th>\n",
       "      <th>Volume</th>\n",
       "      <th>PE</th>\n",
       "      <th>daily_returns</th>\n",
       "      <th>AdjClose_ma</th>\n",
       "      <th>AdjClose_to_ma</th>\n",
       "      <th>MACD</th>\n",
       "    </tr>\n",
       "  </thead>\n",
       "  <tbody>\n",
       "    <tr>\n",
       "      <th>count</th>\n",
       "      <td>1989.000000</td>\n",
       "      <td>1989.000000</td>\n",
       "      <td>1.989000e+03</td>\n",
       "      <td>1989.000000</td>\n",
       "      <td>1989.000000</td>\n",
       "      <td>1989.000000</td>\n",
       "      <td>1989.000000</td>\n",
       "      <td>1989.000000</td>\n",
       "    </tr>\n",
       "    <tr>\n",
       "      <th>mean</th>\n",
       "      <td>295.651041</td>\n",
       "      <td>76.171408</td>\n",
       "      <td>9.139651e+07</td>\n",
       "      <td>14.686742</td>\n",
       "      <td>1.001096</td>\n",
       "      <td>76.047747</td>\n",
       "      <td>1.001979</td>\n",
       "      <td>0.451672</td>\n",
       "    </tr>\n",
       "    <tr>\n",
       "      <th>std</th>\n",
       "      <td>181.015275</td>\n",
       "      <td>33.414377</td>\n",
       "      <td>6.023687e+07</td>\n",
       "      <td>2.935007</td>\n",
       "      <td>0.016183</td>\n",
       "      <td>33.370859</td>\n",
       "      <td>0.017879</td>\n",
       "      <td>1.437241</td>\n",
       "    </tr>\n",
       "    <tr>\n",
       "      <th>min</th>\n",
       "      <td>90.279999</td>\n",
       "      <td>20.591417</td>\n",
       "      <td>1.147590e+07</td>\n",
       "      <td>9.900000</td>\n",
       "      <td>0.876442</td>\n",
       "      <td>21.193974</td>\n",
       "      <td>0.911220</td>\n",
       "      <td>-4.147545</td>\n",
       "    </tr>\n",
       "    <tr>\n",
       "      <th>25%</th>\n",
       "      <td>117.650002</td>\n",
       "      <td>47.714188</td>\n",
       "      <td>4.560110e+07</td>\n",
       "      <td>12.180000</td>\n",
       "      <td>0.993074</td>\n",
       "      <td>47.530966</td>\n",
       "      <td>0.991842</td>\n",
       "      <td>-0.228604</td>\n",
       "    </tr>\n",
       "    <tr>\n",
       "      <th>50%</th>\n",
       "      <td>254.239990</td>\n",
       "      <td>73.118080</td>\n",
       "      <td>7.887040e+07</td>\n",
       "      <td>14.610000</td>\n",
       "      <td>1.000905</td>\n",
       "      <td>73.101788</td>\n",
       "      <td>1.002557</td>\n",
       "      <td>0.421219</td>\n",
       "    </tr>\n",
       "    <tr>\n",
       "      <th>75%</th>\n",
       "      <td>449.730042</td>\n",
       "      <td>104.820999</td>\n",
       "      <td>1.191561e+08</td>\n",
       "      <td>16.760000</td>\n",
       "      <td>1.009961</td>\n",
       "      <td>104.937451</td>\n",
       "      <td>1.012915</td>\n",
       "      <td>1.214963</td>\n",
       "    </tr>\n",
       "    <tr>\n",
       "      <th>max</th>\n",
       "      <td>702.100037</td>\n",
       "      <td>156.100006</td>\n",
       "      <td>4.702495e+08</td>\n",
       "      <td>20.410000</td>\n",
       "      <td>1.088741</td>\n",
       "      <td>154.837997</td>\n",
       "      <td>1.064582</td>\n",
       "      <td>4.785038</td>\n",
       "    </tr>\n",
       "  </tbody>\n",
       "</table>\n",
       "</div>"
      ],
      "text/plain": [
       "             Close    Adj Close        Volume           PE  daily_returns  \\\n",
       "count  1989.000000  1989.000000  1.989000e+03  1989.000000    1989.000000   \n",
       "mean    295.651041    76.171408  9.139651e+07    14.686742       1.001096   \n",
       "std     181.015275    33.414377  6.023687e+07     2.935007       0.016183   \n",
       "min      90.279999    20.591417  1.147590e+07     9.900000       0.876442   \n",
       "25%     117.650002    47.714188  4.560110e+07    12.180000       0.993074   \n",
       "50%     254.239990    73.118080  7.887040e+07    14.610000       1.000905   \n",
       "75%     449.730042   104.820999  1.191561e+08    16.760000       1.009961   \n",
       "max     702.100037   156.100006  4.702495e+08    20.410000       1.088741   \n",
       "\n",
       "       AdjClose_ma  AdjClose_to_ma         MACD  \n",
       "count  1989.000000     1989.000000  1989.000000  \n",
       "mean     76.047747        1.001979     0.451672  \n",
       "std      33.370859        0.017879     1.437241  \n",
       "min      21.193974        0.911220    -4.147545  \n",
       "25%      47.530966        0.991842    -0.228604  \n",
       "50%      73.101788        1.002557     0.421219  \n",
       "75%     104.937451        1.012915     1.214963  \n",
       "max     154.837997        1.064582     4.785038  "
      ]
     },
     "execution_count": 5,
     "metadata": {},
     "output_type": "execute_result"
    }
   ],
   "source": [
    "APPL_df.describe()"
   ]
  },
  {
   "cell_type": "markdown",
   "metadata": {},
   "source": [
    "From the description above, the PE is quite large indicating that apple is a popular stock. Investors are willing to pay an average of $14.68 per dollar earned by apple. A lower PE makes the stock more desirable. It also seems symmetrically distributed with mean being close to median. The MACD seems to be quite symetrically distributed having a mean of 0.5 and max and min values of 4.78 and -4.14 respectively. This might mean there are different periods with uptrends and downtrends in the stock price. As for AdjClose to moving average, it is also quite symetric since the median and mean values are very close. The moving average portion has taken out noise from the data. We test for normality below."
   ]
  },
  {
   "cell_type": "code",
   "execution_count": 6,
   "metadata": {},
   "outputs": [
    {
     "name": "stdout",
     "output_type": "stream",
     "text": [
      "NormaltestResult(statistic=165.10177120147955, pvalue=1.4080105449880001e-36)\n",
      "NormaltestResult(statistic=115.19555086827263, pvalue=9.6739526875620546e-26)\n",
      "NormaltestResult(statistic=39.3268152566596, pvalue=2.8859617557459964e-09)\n"
     ]
    }
   ],
   "source": [
    "import scipy.stats as stats\n",
    "print stats.normaltest(APPL_df['PE'])\n",
    "print stats.normaltest(APPL_df['AdjClose_to_ma'])\n",
    "print stats.normaltest(APPL_df['MACD'])"
   ]
  },
  {
   "cell_type": "markdown",
   "metadata": {},
   "source": [
    "With such small p-values we can safely say that that the data set is not normal. This is not surprising since there is an increasing trend in the prices. "
   ]
  },
  {
   "cell_type": "code",
   "execution_count": 7,
   "metadata": {},
   "outputs": [
    {
     "data": {
      "image/png": "[encoded data removed]",
      "text/plain": [
       "<matplotlib.figure.Figure at 0xed14710>"
      ]
     },
     "metadata": {},
     "output_type": "display_data"
    },
    {
     "data": {
      "image/png": "[encoded data removed]",
      "text/plain": [
       "<matplotlib.figure.Figure at 0xee3ae48>"
      ]
     },
     "metadata": {},
     "output_type": "display_data"
    },
    {
     "data": {
      "image/png": "[encoded data removed]",
      "text/plain": [
       "<matplotlib.figure.Figure at 0xeb6f4a8>"
      ]
     },
     "metadata": {},
     "output_type": "display_data"
    },
    {
     "data": {
      "image/png": "[encoded data removed]",
      "text/plain": [
       "<matplotlib.figure.Figure at 0xf3e3c18>"
      ]
     },
     "metadata": {},
     "output_type": "display_data"
    }
   ],
   "source": [
    "import matplotlib.pyplot as plt2\n",
    "\n",
    "plt2.plot(APPL_df['Adj Close'],color='blue', label='Adj Close')\n",
    "plt2.legend(loc='best')\n",
    "plt2.show()\n",
    "\n",
    "plt2.plot(APPL_df['MACD'],color='green', label='MACD')\n",
    "plt2.legend(loc='best')\n",
    "plt2.show()\n",
    "\n",
    "plt2.plot(APPL_df['PE'],color='red', label='PE')\n",
    "plt2.legend(loc='best')\n",
    "plt2.show()\n",
    "\n",
    "plt2.plot(APPL_df['AdjClose_to_ma'],color='black', label='AdjClose_to_ma')\n",
    "plt2.legend(loc='best')\n",
    "plt2.show()"
   ]
  },
  {
   "cell_type": "markdown",
   "metadata": {},
   "source": [
    "The adjusted closing prices have increased over the years showing that apple stock is quite profitable. From the descriptive stats, one would have obtained a 1% daily return everyday on average for the past 9 years. The MACD indicator suggests that there are times of strong uptrends and strong downtrends. There does not seem to be any discernable pattern in the PE. We will use our machine learning algorithm to find how these features influence each other."
   ]
  },
  {
   "cell_type": "markdown",
   "metadata": {},
   "source": [
    "We will fix a random number seed to ensure our results are reproducible. LSTMs are sensitive to the scale of the input data, specifically when the sigmoid (default) or tanh activation functions are used. Looking at our data a good range would be from -1-to-1."
   ]
  },
  {
   "cell_type": "markdown",
   "metadata": {},
   "source": [
    "# Data Preprocessing"
   ]
  },
  {
   "cell_type": "code",
   "execution_count": 8,
   "metadata": {},
   "outputs": [
    {
     "data": {
      "text/html": [
       "<div>\n",
       "<style>\n",
       "    .dataframe thead tr:only-child th {\n",
       "        text-align: right;\n",
       "    }\n",
       "\n",
       "    .dataframe thead th {\n",
       "        text-align: left;\n",
       "    }\n",
       "\n",
       "    .dataframe tbody tr th {\n",
       "        vertical-align: top;\n",
       "    }\n",
       "</style>\n",
       "<table border=\"1\" class=\"dataframe\">\n",
       "  <thead>\n",
       "    <tr style=\"text-align: right;\">\n",
       "      <th></th>\n",
       "      <th>MACD</th>\n",
       "      <th>AdjClose_to_ma</th>\n",
       "      <th>PE</th>\n",
       "      <th>Adj Close</th>\n",
       "    </tr>\n",
       "  </thead>\n",
       "  <tbody>\n",
       "    <tr>\n",
       "      <th>0</th>\n",
       "      <td>0.520229</td>\n",
       "      <td>0.587096</td>\n",
       "      <td>0.601332</td>\n",
       "      <td>0.005637</td>\n",
       "    </tr>\n",
       "    <tr>\n",
       "      <th>1</th>\n",
       "      <td>0.518406</td>\n",
       "      <td>0.569405</td>\n",
       "      <td>0.601332</td>\n",
       "      <td>0.004885</td>\n",
       "    </tr>\n",
       "    <tr>\n",
       "      <th>2</th>\n",
       "      <td>0.514402</td>\n",
       "      <td>0.515992</td>\n",
       "      <td>0.601332</td>\n",
       "      <td>0.003085</td>\n",
       "    </tr>\n",
       "    <tr>\n",
       "      <th>3</th>\n",
       "      <td>0.513278</td>\n",
       "      <td>0.612753</td>\n",
       "      <td>0.601332</td>\n",
       "      <td>0.005446</td>\n",
       "    </tr>\n",
       "    <tr>\n",
       "      <th>4</th>\n",
       "      <td>0.515095</td>\n",
       "      <td>0.699635</td>\n",
       "      <td>0.601332</td>\n",
       "      <td>0.008408</td>\n",
       "    </tr>\n",
       "  </tbody>\n",
       "</table>\n",
       "</div>"
      ],
      "text/plain": [
       "       MACD  AdjClose_to_ma        PE  Adj Close\n",
       "0  0.520229        0.587096  0.601332   0.005637\n",
       "1  0.518406        0.569405  0.601332   0.004885\n",
       "2  0.514402        0.515992  0.601332   0.003085\n",
       "3  0.513278        0.612753  0.601332   0.005446\n",
       "4  0.515095        0.699635  0.601332   0.008408"
      ]
     },
     "execution_count": 8,
     "metadata": {},
     "output_type": "execute_result"
    }
   ],
   "source": [
    "np.random.seed(10) #set seed so that the model can be reproduced\n",
    "FeaturesData = APPL_df[['MACD','AdjClose_to_ma','PE','Adj Close']].copy()\n",
    "from sklearn.preprocessing import MinMaxScaler\n",
    "min_max_scaler = MinMaxScaler()\n",
    "def normalize_data(df):\n",
    "    df['MACD'] = min_max_scaler.fit_transform(df.MACD.values.reshape(-1,1))\n",
    "    df['AdjClose_to_ma'] = min_max_scaler.fit_transform(df.AdjClose_to_ma.values.reshape(-1,1))\n",
    "    df['PE'] = min_max_scaler.fit_transform(df.PE.values.reshape(-1,1))\n",
    "    df['Adj Close'] = min_max_scaler.fit_transform(df['Adj Close'].values.reshape(-1,1))\n",
    "    return df\n",
    "df = normalize_data(FeaturesData)\n",
    "df.head()"
   ]
  },
  {
   "cell_type": "markdown",
   "metadata": {},
   "source": [
    "We want to use the values from 10 days of the features to predict the adjusted close price the next day. So given the values of MACD, AdjClose to ma and P/E at time t-9,t-8,...t, we want to predict the adj close price at time t+1. We also want to split our data into training and testing sets. Since this is a timeseries we cannot use shuffling in a cross validation. Below is function to split our data into 70% training set and 30% testing set. We will train a model on each of them and take an average as our final model."
   ]
  },
  {
   "cell_type": "markdown",
   "metadata": {},
   "source": [
    "We now prepare our data in the correct format. At time t we have 10 values of MACD, AdjClose to moving average and PE ratio and one value of adj close at time t+1.   \n",
    "Furthermore the LSTM network expects the input data (X) to be provided with a specific array structure in the form of: [samples, time steps, features]."
   ]
  },
  {
   "cell_type": "code",
   "execution_count": 9,
   "metadata": {
    "collapsed": true
   },
   "outputs": [],
   "source": [
    "def load_data(stock, seq_len=10):\n",
    "    amount_of_features = len(stock.columns) # 4\n",
    "    data = stock.as_matrix() \n",
    "    sequence_length = seq_len + 1\n",
    "    result = []\n",
    "    \n",
    "    for index in range(len(data) - sequence_length): # maxmimum date = lastest date - sequence length\n",
    "        result.append(data[index: index + sequence_length]) # index : index + 10days\n",
    "    \n",
    "    result = np.array(result)\n",
    "    row = round(0.7 * result.shape[0]) # 70% split\n",
    "    train = result[:int(row), :] # 70% date, all features \n",
    "    \n",
    "    x_train = train[:, :-1] \n",
    "    y_train = train[:, -1][:,-1]\n",
    "    \n",
    "    x_test = result[int(row):, :-1] \n",
    "    y_test = result[int(row):, -1][:,-1]\n",
    "\n",
    "    x_train = np.reshape(x_train, (x_train.shape[0], x_train.shape[1], amount_of_features))\n",
    "    x_test = np.reshape(x_test, (x_test.shape[0], x_test.shape[1], amount_of_features))  \n",
    "\n",
    "    return [x_train, y_train, x_test, y_test]"
   ]
  },
  {
   "cell_type": "code",
   "execution_count": 10,
   "metadata": {},
   "outputs": [
    {
     "name": "stdout",
     "output_type": "stream",
     "text": [
      "(array([[ 0.52022867,  0.58709635,  0.60133206,  0.00563684],\n",
      "       [ 0.51840603,  0.5694046 ,  0.60133206,  0.00488462],\n",
      "       [ 0.5144023 ,  0.51599153,  0.60133206,  0.00308499],\n",
      "       [ 0.51327836,  0.61275251,  0.60133206,  0.00544641],\n",
      "       [ 0.51509539,  0.69963521,  0.60133206,  0.00840765],\n",
      "       [ 0.51419364,  0.62487802,  0.60133206,  0.00684608],\n",
      "       [ 0.50526721,  0.38096101,  0.60133206,  0.        ],\n",
      "       [ 0.50253422,  0.54645164,  0.60133206,  0.00419908],\n",
      "       [ 0.50060181,  0.57580305,  0.60133206,  0.00477037],\n",
      "       [ 0.50054266,  0.66106349,  0.60133206,  0.00641763]]), 0.0091694335331024834)\n",
      "        MACD  AdjClose_to_ma        PE  Adj Close\n",
      "0   0.520229        0.587096  0.601332   0.005637\n",
      "1   0.518406        0.569405  0.601332   0.004885\n",
      "2   0.514402        0.515992  0.601332   0.003085\n",
      "3   0.513278        0.612753  0.601332   0.005446\n",
      "4   0.515095        0.699635  0.601332   0.008408\n",
      "5   0.514194        0.624878  0.601332   0.006846\n",
      "6   0.505267        0.380961  0.601332   0.000000\n",
      "7   0.502534        0.546452  0.601332   0.004199\n",
      "8   0.500602        0.575803  0.601332   0.004770\n",
      "9   0.500543        0.661063  0.601332   0.006418\n",
      "10  0.503219        0.755889  0.601332   0.009169\n"
     ]
    }
   ],
   "source": [
    "X_train, y_train, X_test, y_test = load_data(df)\n",
    "print (X_train[0], y_train[0])\n",
    "print df[0:11]"
   ]
  },
  {
   "cell_type": "markdown",
   "metadata": {},
   "source": [
    "Our y-value is the adjusted closing price value at time t+1. Before we train our model, we shall remove the last column from X."
   ]
  },
  {
   "cell_type": "code",
   "execution_count": 11,
   "metadata": {},
   "outputs": [
    {
     "name": "stdout",
     "output_type": "stream",
     "text": [
      "[ 0.52022867  0.58709635  0.60133206]\n",
      "[ 0.73351696  0.60883586  0.51665081]\n"
     ]
    }
   ],
   "source": [
    "new_X_train = np.empty([len(X_train),10,3])\n",
    "for i in range(len(X_train)):\n",
    "    for j in range(10):\n",
    "        new_row = np.delete(X_train[i][j],3)\n",
    "        new_X_train[i][j] = new_row\n",
    "\n",
    "new_X_test = np.empty([len(X_test),10,3])\n",
    "#new_X_train = np.reshape(new_X_train,(1385,10,3))\n",
    "for i in range(len(X_test)):\n",
    "    for j in range(10):\n",
    "        new_row = np.delete(X_test[i][j],3)\n",
    "        new_X_test[i][j] = new_row\n",
    "\n",
    "print new_X_train[0][0]\n",
    "print new_X_test[0][0]"
   ]
  },
  {
   "cell_type": "markdown",
   "metadata": {},
   "source": [
    "# Training the model"
   ]
  },
  {
   "cell_type": "markdown",
   "metadata": {},
   "source": [
    "Let's train the LSTM network for this problem.   \n",
    "\n",
    "The network has 2 visible layers with 10 inputs, a hidden layer with 32 LSTM blocks and another with 16 LSTM blocks or neurons, and an output layer that makes 16 value prediction and 1 value prediction. The default sigmoid activation function is used for the LSTM blocks. We will use a dropout of 0.2.\n",
    "\n",
    "Each epoch is a forward pass and back pass of all of the training examples, i.e. the batch size.   \n",
    "Dropout is a regularization technique for reducing overfitting in neural networks. So we simply throw away 20% of the results to make the model more stochastic. We shall use a batch size of 50 and epoch of 90.    \n",
    "A reference for the hyperparameters can be found here.    \n",
    "https://github.com/BenjiKCF/Neural-Network-with-Financial-Time-Series-Data"
   ]
  },
  {
   "cell_type": "code",
   "execution_count": 12,
   "metadata": {
    "collapsed": true
   },
   "outputs": [],
   "source": [
    "from keras.models import Sequential\n",
    "from keras.layers.core import Dense, Dropout, Activation\n",
    "from keras.layers.recurrent import LSTM\n",
    "from keras.models import load_model\n",
    "import keras\n",
    "#from sklearn.model_selection import GridSearchCV\n",
    "#from keras.wrappers.scikit_learn import KerasClassifier"
   ]
  },
  {
   "cell_type": "code",
   "execution_count": 13,
   "metadata": {},
   "outputs": [
    {
     "name": "stdout",
     "output_type": "stream",
     "text": [
      "Train on 1246 samples, validate on 139 samples\n",
      "Epoch 1/90\n",
      "1246/1246 [==============================] - 1s - loss: 0.0254 - acc: 0.0000e+00 - val_loss: 0.1225 - val_acc: 0.0000e+00\n",
      "Epoch 2/90\n",
      "1246/1246 [==============================] - 0s - loss: 0.0126 - acc: 0.0000e+00 - val_loss: 0.0917 - val_acc: 0.0000e+00\n",
      "Epoch 3/90\n",
      "1246/1246 [==============================] - 0s - loss: 0.0121 - acc: 0.0000e+00 - val_loss: 0.1140 - val_acc: 0.0000e+00\n",
      "Epoch 4/90\n",
      "1246/1246 [==============================] - 0s - loss: 0.0112 - acc: 0.0000e+00 - val_loss: 0.0997 - val_acc: 0.0000e+00\n",
      "Epoch 5/90\n",
      "1246/1246 [==============================] - 0s - loss: 0.0105 - acc: 0.0000e+00 - val_loss: 0.1028 - val_acc: 0.0000e+00\n",
      "Epoch 6/90\n",
      "1246/1246 [==============================] - 0s - loss: 0.0107 - acc: 0.0000e+00 - val_loss: 0.0928 - val_acc: 0.0000e+00\n",
      "Epoch 7/90\n",
      "1246/1246 [==============================] - 0s - loss: 0.0095 - acc: 0.0000e+00 - val_loss: 0.1053 - val_acc: 0.0000e+00\n",
      "Epoch 8/90\n",
      "1246/1246 [==============================] - 0s - loss: 0.0092 - acc: 0.0000e+00 - val_loss: 0.0763 - val_acc: 0.0000e+00\n",
      "Epoch 9/90\n",
      "1246/1246 [==============================] - 0s - loss: 0.0093 - acc: 0.0000e+00 - val_loss: 0.0998 - val_acc: 0.0000e+00\n",
      "Epoch 10/90\n",
      "1246/1246 [==============================] - 0s - loss: 0.0088 - acc: 0.0000e+00 - val_loss: 0.0727 - val_acc: 0.0000e+00\n",
      "Epoch 11/90\n",
      "1246/1246 [==============================] - 0s - loss: 0.0089 - acc: 0.0000e+00 - val_loss: 0.0950 - val_acc: 0.0000e+00\n",
      "Epoch 12/90\n",
      "1246/1246 [==============================] - 0s - loss: 0.0085 - acc: 0.0000e+00 - val_loss: 0.0999 - val_acc: 0.0000e+00\n",
      "Epoch 13/90\n",
      "1246/1246 [==============================] - 0s - loss: 0.0085 - acc: 0.0000e+00 - val_loss: 0.0760 - val_acc: 0.0000e+00\n",
      "Epoch 14/90\n",
      "1246/1246 [==============================] - 0s - loss: 0.0084 - acc: 0.0000e+00 - val_loss: 0.0991 - val_acc: 0.0000e+00\n",
      "Epoch 15/90\n",
      "1246/1246 [==============================] - 0s - loss: 0.0079 - acc: 0.0000e+00 - val_loss: 0.0972 - val_acc: 0.0000e+00\n",
      "Epoch 16/90\n",
      "1246/1246 [==============================] - 0s - loss: 0.0080 - acc: 0.0000e+00 - val_loss: 0.1038 - val_acc: 0.0000e+00\n",
      "Epoch 17/90\n",
      "1246/1246 [==============================] - 0s - loss: 0.0079 - acc: 0.0000e+00 - val_loss: 0.0831 - val_acc: 0.0000e+00\n",
      "Epoch 18/90\n",
      "1246/1246 [==============================] - 0s - loss: 0.0075 - acc: 0.0000e+00 - val_loss: 0.0708 - val_acc: 0.0000e+00\n",
      "Epoch 19/90\n",
      "1246/1246 [==============================] - 0s - loss: 0.0077 - acc: 0.0000e+00 - val_loss: 0.0935 - val_acc: 0.0000e+00\n",
      "Epoch 20/90\n",
      "1246/1246 [==============================] - 0s - loss: 0.0077 - acc: 0.0000e+00 - val_loss: 0.1022 - val_acc: 0.0000e+00\n",
      "Epoch 21/90\n",
      "1246/1246 [==============================] - 0s - loss: 0.0078 - acc: 0.0000e+00 - val_loss: 0.1032 - val_acc: 0.0000e+00\n",
      "Epoch 22/90\n",
      "1246/1246 [==============================] - 0s - loss: 0.0072 - acc: 0.0000e+00 - val_loss: 0.1122 - val_acc: 0.0000e+00\n",
      "Epoch 23/90\n",
      "1246/1246 [==============================] - 0s - loss: 0.0076 - acc: 0.0000e+00 - val_loss: 0.0943 - val_acc: 0.0000e+00\n",
      "Epoch 24/90\n",
      "1246/1246 [==============================] - 0s - loss: 0.0073 - acc: 0.0000e+00 - val_loss: 0.1037 - val_acc: 0.0000e+00\n",
      "Epoch 25/90\n",
      "1246/1246 [==============================] - 0s - loss: 0.0072 - acc: 0.0000e+00 - val_loss: 0.0790 - val_acc: 0.0000e+00\n",
      "Epoch 26/90\n",
      "1246/1246 [==============================] - 0s - loss: 0.0071 - acc: 0.0000e+00 - val_loss: 0.0862 - val_acc: 0.0000e+00\n",
      "Epoch 27/90\n",
      "1246/1246 [==============================] - 0s - loss: 0.0072 - acc: 0.0000e+00 - val_loss: 0.0958 - val_acc: 0.0000e+00\n",
      "Epoch 28/90\n",
      "1246/1246 [==============================] - 0s - loss: 0.0071 - acc: 0.0000e+00 - val_loss: 0.0625 - val_acc: 0.0000e+00\n",
      "Epoch 29/90\n",
      "1246/1246 [==============================] - 1s - loss: 0.0070 - acc: 0.0000e+00 - val_loss: 0.0852 - val_acc: 0.0000e+00\n",
      "Epoch 30/90\n",
      "1246/1246 [==============================] - 1s - loss: 0.0066 - acc: 0.0000e+00 - val_loss: 0.0856 - val_acc: 0.0000e+00\n",
      "Epoch 31/90\n",
      "1246/1246 [==============================] - 1s - loss: 0.0067 - acc: 0.0000e+00 - val_loss: 0.0870 - val_acc: 0.0000e+0000e+0\n",
      "Epoch 32/90\n",
      "1246/1246 [==============================] - 1s - loss: 0.0067 - acc: 0.0000e+00 - val_loss: 0.0757 - val_acc: 0.0000e+00\n",
      "Epoch 33/90\n",
      "1246/1246 [==============================] - 1s - loss: 0.0067 - acc: 0.0000e+00 - val_loss: 0.0659 - val_acc: 0.0000e+00\n",
      "Epoch 34/90\n",
      "1246/1246 [==============================] - 1s - loss: 0.0063 - acc: 0.0000e+00 - val_loss: 0.0741 - val_acc: 0.0000e+00\n",
      "Epoch 35/90\n",
      "1246/1246 [==============================] - 1s - loss: 0.0066 - acc: 0.0000e+00 - val_loss: 0.0908 - val_acc: 0.0000e+00\n",
      "Epoch 36/90\n",
      "1246/1246 [==============================] - 0s - loss: 0.0065 - acc: 0.0000e+00 - val_loss: 0.0882 - val_acc: 0.0000e+00\n",
      "Epoch 37/90\n",
      "1246/1246 [==============================] - 1s - loss: 0.0063 - acc: 0.0000e+00 - val_loss: 0.0630 - val_acc: 0.0000e+00\n",
      "Epoch 38/90\n",
      "1246/1246 [==============================] - 1s - loss: 0.0065 - acc: 0.0000e+00 - val_loss: 0.0702 - val_acc: 0.0000e+00\n",
      "Epoch 39/90\n",
      "1246/1246 [==============================] - 0s - loss: 0.0063 - acc: 0.0000e+00 - val_loss: 0.0725 - val_acc: 0.0000e+00\n",
      "Epoch 40/90\n",
      "1246/1246 [==============================] - 1s - loss: 0.0061 - acc: 0.0000e+00 - val_loss: 0.0780 - val_acc: 0.0000e+00\n",
      "Epoch 41/90\n",
      "1246/1246 [==============================] - 0s - loss: 0.0062 - acc: 0.0000e+00 - val_loss: 0.0942 - val_acc: 0.0000e+00\n",
      "Epoch 42/90\n",
      "1246/1246 [==============================] - 0s - loss: 0.0063 - acc: 0.0000e+00 - val_loss: 0.0872 - val_acc: 0.0000e+00\n",
      "Epoch 43/90\n",
      "1246/1246 [==============================] - 0s - loss: 0.0059 - acc: 0.0000e+00 - val_loss: 0.0838 - val_acc: 0.0000e+00\n",
      "Epoch 44/90\n",
      "1246/1246 [==============================] - 0s - loss: 0.0059 - acc: 0.0000e+00 - val_loss: 0.0698 - val_acc: 0.0000e+00\n",
      "Epoch 45/90\n",
      "1246/1246 [==============================] - 1s - loss: 0.0060 - acc: 0.0000e+00 - val_loss: 0.0807 - val_acc: 0.0000e+00\n",
      "Epoch 46/90\n",
      "1246/1246 [==============================] - 0s - loss: 0.0058 - acc: 0.0000e+00 - val_loss: 0.0777 - val_acc: 0.0000e+00\n",
      "Epoch 47/90\n",
      "1246/1246 [==============================] - 1s - loss: 0.0056 - acc: 0.0000e+00 - val_loss: 0.0807 - val_acc: 0.0000e+00\n",
      "Epoch 48/90\n",
      "1246/1246 [==============================] - 1s - loss: 0.0058 - acc: 0.0000e+00 - val_loss: 0.0962 - val_acc: 0.0000e+00\n",
      "Epoch 49/90\n",
      "1246/1246 [==============================] - 0s - loss: 0.0057 - acc: 0.0000e+00 - val_loss: 0.0718 - val_acc: 0.0000e+00\n",
      "Epoch 50/90\n",
      "1246/1246 [==============================] - 0s - loss: 0.0056 - acc: 0.0000e+00 - val_loss: 0.0796 - val_acc: 0.0000e+00\n",
      "Epoch 51/90\n",
      "1246/1246 [==============================] - 1s - loss: 0.0055 - acc: 0.0000e+00 - val_loss: 0.0897 - val_acc: 0.0000e+00\n",
      "Epoch 52/90\n",
      "1246/1246 [==============================] - 0s - loss: 0.0055 - acc: 0.0000e+00 - val_loss: 0.0785 - val_acc: 0.0000e+00\n",
      "Epoch 53/90\n",
      "1246/1246 [==============================] - 0s - loss: 0.0056 - acc: 0.0000e+00 - val_loss: 0.0687 - val_acc: 0.0000e+00\n",
      "Epoch 54/90\n",
      "1246/1246 [==============================] - 1s - loss: 0.0055 - acc: 0.0000e+00 - val_loss: 0.0758 - val_acc: 0.0000e+00\n",
      "Epoch 55/90\n",
      "1246/1246 [==============================] - 1s - loss: 0.0054 - acc: 0.0000e+00 - val_loss: 0.0692 - val_acc: 0.0000e+00\n",
      "Epoch 56/90\n",
      "1246/1246 [==============================] - 1s - loss: 0.0052 - acc: 0.0000e+00 - val_loss: 0.0700 - val_acc: 0.0000e+00\n",
      "Epoch 57/90\n",
      "1246/1246 [==============================] - 0s - loss: 0.0051 - acc: 0.0000e+00 - val_loss: 0.0784 - val_acc: 0.0000e+00\n",
      "Epoch 58/90\n",
      "1246/1246 [==============================] - 0s - loss: 0.0052 - acc: 0.0000e+00 - val_loss: 0.0804 - val_acc: 0.0000e+00\n",
      "Epoch 59/90\n",
      "1246/1246 [==============================] - 0s - loss: 0.0053 - acc: 0.0000e+00 - val_loss: 0.1009 - val_acc: 0.0000e+00\n",
      "Epoch 60/90\n",
      "1246/1246 [==============================] - 1s - loss: 0.0051 - acc: 0.0000e+00 - val_loss: 0.0760 - val_acc: 0.0000e+00\n",
      "Epoch 61/90\n",
      "1246/1246 [==============================] - 1s - loss: 0.0049 - acc: 0.0000e+00 - val_loss: 0.0943 - val_acc: 0.0000e+00\n",
      "Epoch 62/90\n",
      "1246/1246 [==============================] - 1s - loss: 0.0049 - acc: 0.0000e+00 - val_loss: 0.0789 - val_acc: 0.0000e+00\n",
      "Epoch 63/90\n",
      "1246/1246 [==============================] - 1s - loss: 0.0050 - acc: 0.0000e+00 - val_loss: 0.0742 - val_acc: 0.0000e+00\n",
      "Epoch 64/90\n",
      "1246/1246 [==============================] - 1s - loss: 0.0047 - acc: 0.0000e+00 - val_loss: 0.0843 - val_acc: 0.0000e+00\n",
      "Epoch 65/90\n",
      "1246/1246 [==============================] - 1s - loss: 0.0047 - acc: 0.0000e+00 - val_loss: 0.0890 - val_acc: 0.0000e+00\n",
      "Epoch 66/90\n",
      "1246/1246 [==============================] - 0s - loss: 0.0047 - acc: 0.0000e+00 - val_loss: 0.0921 - val_acc: 0.0000e+00\n",
      "Epoch 67/90\n",
      "1246/1246 [==============================] - 0s - loss: 0.0047 - acc: 0.0000e+00 - val_loss: 0.0797 - val_acc: 0.0000e+00\n",
      "Epoch 68/90\n",
      "1246/1246 [==============================] - 1s - loss: 0.0047 - acc: 0.0000e+00 - val_loss: 0.0830 - val_acc: 0.0000e+00\n",
      "Epoch 69/90\n",
      "1246/1246 [==============================] - 1s - loss: 0.0048 - acc: 0.0000e+00 - val_loss: 0.0795 - val_acc: 0.0000e+00\n",
      "Epoch 70/90\n",
      "1246/1246 [==============================] - 0s - loss: 0.0047 - acc: 0.0000e+00 - val_loss: 0.0822 - val_acc: 0.0000e+00\n",
      "Epoch 71/90\n",
      "1246/1246 [==============================] - 1s - loss: 0.0047 - acc: 0.0000e+00 - val_loss: 0.0783 - val_acc: 0.0000e+00\n",
      "Epoch 72/90\n",
      "1246/1246 [==============================] - 0s - loss: 0.0045 - acc: 0.0000e+00 - val_loss: 0.0954 - val_acc: 0.0000e+00\n",
      "Epoch 73/90\n",
      "1246/1246 [==============================] - 0s - loss: 0.0046 - acc: 0.0000e+00 - val_loss: 0.0815 - val_acc: 0.0000e+00\n",
      "Epoch 74/90\n",
      "1246/1246 [==============================] - 0s - loss: 0.0044 - acc: 0.0000e+00 - val_loss: 0.0765 - val_acc: 0.0000e+00\n",
      "Epoch 75/90\n",
      "1246/1246 [==============================] - 0s - loss: 0.0045 - acc: 0.0000e+00 - val_loss: 0.0687 - val_acc: 0.0000e+00\n",
      "Epoch 76/90\n",
      "1246/1246 [==============================] - 1s - loss: 0.0044 - acc: 0.0000e+00 - val_loss: 0.0884 - val_acc: 0.0000e+00\n",
      "Epoch 77/90\n",
      "1246/1246 [==============================] - 0s - loss: 0.0044 - acc: 0.0000e+00 - val_loss: 0.0909 - val_acc: 0.0000e+00\n",
      "Epoch 78/90\n",
      "1246/1246 [==============================] - 1s - loss: 0.0046 - acc: 0.0000e+00 - val_loss: 0.0892 - val_acc: 0.0000e+00\n",
      "Epoch 79/90\n",
      "1246/1246 [==============================] - 1s - loss: 0.0043 - acc: 0.0000e+00 - val_loss: 0.0792 - val_acc: 0.0000e+00\n",
      "Epoch 80/90\n",
      "1246/1246 [==============================] - 1s - loss: 0.0044 - acc: 0.0000e+00 - val_loss: 0.0773 - val_acc: 0.0000e+00\n",
      "Epoch 81/90\n",
      "1246/1246 [==============================] - 1s - loss: 0.0044 - acc: 0.0000e+00 - val_loss: 0.0709 - val_acc: 0.0000e+00\n",
      "Epoch 82/90\n",
      "1246/1246 [==============================] - 1s - loss: 0.0042 - acc: 0.0000e+00 - val_loss: 0.0899 - val_acc: 0.0000e+00\n",
      "Epoch 83/90\n",
      "1246/1246 [==============================] - 1s - loss: 0.0043 - acc: 0.0000e+00 - val_loss: 0.0903 - val_acc: 0.0000e+00\n",
      "Epoch 84/90\n",
      "1246/1246 [==============================] - 1s - loss: 0.0043 - acc: 0.0000e+00 - val_loss: 0.0851 - val_acc: 0.0000e+00\n",
      "Epoch 85/90\n",
      "1246/1246 [==============================] - 1s - loss: 0.0043 - acc: 0.0000e+00 - val_loss: 0.0855 - val_acc: 0.0000e+00\n",
      "Epoch 86/90\n",
      "1246/1246 [==============================] - 1s - loss: 0.0043 - acc: 0.0000e+00 - val_loss: 0.0840 - val_acc: 0.0000e+00\n",
      "Epoch 87/90\n",
      "1246/1246 [==============================] - 0s - loss: 0.0042 - acc: 0.0000e+00 - val_loss: 0.0948 - val_acc: 0.0000e+00\n",
      "Epoch 88/90\n",
      "1246/1246 [==============================] - 1s - loss: 0.0044 - acc: 0.0000e+00 - val_loss: 0.0940 - val_acc: 0.0000e+00\n",
      "Epoch 89/90\n",
      "1246/1246 [==============================] - 1s - loss: 0.0042 - acc: 0.0000e+00 - val_loss: 0.0984 - val_acc: 0.0000e+00\n",
      "Epoch 90/90\n",
      "1246/1246 [==============================] - 1s - loss: 0.0041 - acc: 0.0000e+00 - val_loss: 0.0913 - val_acc: 0.0000e+00\n",
      "('compilation time : ', 148.72199988365173)\n"
     ]
    }
   ],
   "source": [
    "# Function to create model, required for KerasClassifier\n",
    "def create_model(d=0.2,InputShape = (10,3)):\n",
    "\t# create model\n",
    "    \n",
    "    model = Sequential()\n",
    "    model.add(LSTM(32, input_shape= InputShape, return_sequences=True))\n",
    "    model.add(Dropout(d))\n",
    "    model.add(Dense(16))\n",
    "\n",
    "    model.add(LSTM(16, return_sequences=False))\n",
    "    model.add(Dropout(d))\n",
    "    model.add(Dense(1))\n",
    "    # Compile model\n",
    "    model.compile(loss='mse', optimizer='rmsprop', metrics=['accuracy'])\n",
    "\n",
    "    return model\n",
    "\n",
    "# create model\n",
    "model = create_model()\n",
    "start = time.time()\n",
    "model.fit(new_X_train,y_train,batch_size=50,epochs=90,validation_split=0.1,verbose=1)\n",
    "print ('compilation time : ', time.time() - start)\n",
    "\n",
    "#A grid search to determine optimal hyperparameters\n",
    "# define the grid search parameters\n",
    "#batch_size = [40, 50, 70]\n",
    "#epochs = [10, 50, 100]\n",
    "#param_grid = dict(batch_size=batch_size, epochs=epochs)\n",
    "#grid = GridSearchCV(estimator=model, param_grid=param_grid, n_jobs=-1)\n",
    "#grid_result = grid.fit(new_X_train, y_train)\n",
    "\n",
    "# summarize results\n",
    "#print(\"Best: %f using %s\" % (grid_result.best_score_, grid_result.best_params_))\n",
    "#means = grid_result.cv_results_['mean_test_score']\n",
    "#stds = grid_result.cv_results_['std_test_score']\n",
    "#params = grid_result.cv_results_['params']\n",
    "#for mean, stdev, param in zip(means, stds, params):\n",
    "#    print(\"%f (%f) with: %r\" % (mean, stdev, param))"
   ]
  },
  {
   "cell_type": "markdown",
   "metadata": {},
   "source": [
    "Now that we have trained our model, let's evaluate it."
   ]
  },
  {
   "cell_type": "code",
   "execution_count": 14,
   "metadata": {},
   "outputs": [
    {
     "name": "stdout",
     "output_type": "stream",
     "text": [
      "Train Score: 0.01224 MSE (0.11 RMSE)\n",
      "Test Score: 0.15213 MSE (0.39 RMSE)\n"
     ]
    }
   ],
   "source": [
    "import math\n",
    "def model_score(model, X_train, y_train, X_test, y_test):\n",
    "    trainScore = model.evaluate(X_train, y_train, verbose=0)\n",
    "    print('Train Score: %.5f MSE (%.2f RMSE)' % (trainScore[0], math.sqrt(trainScore[0])))\n",
    "\n",
    "    testScore = model.evaluate(X_test, y_test, verbose=0)\n",
    "    print('Test Score: %.5f MSE (%.2f RMSE)' % (float(testScore[0]), float(math.sqrt(testScore[0]))))\n",
    "\n",
    "\n",
    "\n",
    "model_score(model, new_X_train, y_train, new_X_test, y_test)"
   ]
  },
  {
   "cell_type": "markdown",
   "metadata": {},
   "source": [
    "To visualise the predictions of this model with the test data and the robustness of the model."
   ]
  },
  {
   "cell_type": "code",
   "execution_count": 15,
   "metadata": {},
   "outputs": [
    {
     "name": "stderr",
     "output_type": "stream",
     "text": [
      "C:\\Users\\User\\Anaconda2\\lib\\site-packages\\sklearn\\preprocessing\\data.py:374: DeprecationWarning: Passing 1d arrays as data is deprecated in 0.17 and will raise ValueError in 0.19. Reshape your data either using X.reshape(-1, 1) if your data has a single feature or X.reshape(1, -1) if it contains a single sample.\n",
      "  warnings.warn(DEPRECATION_MSG_1D, DeprecationWarning)\n"
     ]
    },
    {
     "data": {
      "image/png": "[encoded data removed]",
      "text/plain": [
       "<matplotlib.figure.Figure at 0xd523d518>"
      ]
     },
     "metadata": {},
     "output_type": "display_data"
    }
   ],
   "source": [
    "pred = model.predict(new_X_test)\n",
    "Predictions = min_max_scaler.inverse_transform(pred)\n",
    "Actual = min_max_scaler.inverse_transform(y_test)\n",
    "\n",
    "import matplotlib.pyplot as plt2\n",
    "\n",
    "plt2.plot(Predictions,color='red', label='Prediction')\n",
    "plt2.plot(Actual,color='blue', label='Actual')\n",
    "plt2.legend(loc='best')\n",
    "plt2.show()"
   ]
  },
  {
   "cell_type": "markdown",
   "metadata": {},
   "source": [
    "The model is not very accurate and it can be improved by doing a timeseries split of the data and averaging the fitted models. Looking at the graph towards the end there is a significant drop of the stock price withour predictions. This may be due to the sudden increase in P/E ratio from our data set. We re-train another model without P/E ratio."
   ]
  },
  {
   "cell_type": "code",
   "execution_count": 16,
   "metadata": {},
   "outputs": [
    {
     "name": "stdout",
     "output_type": "stream",
     "text": [
      "[ 0.52022867  0.58709635]\n",
      "[ 0.73351696  0.60883586]\n"
     ]
    }
   ],
   "source": [
    "new_X_train2 = np.empty([len(new_X_train),10,2])\n",
    "for i in range(len(new_X_train)):\n",
    "    for j in range(10):\n",
    "        new_row = np.delete(new_X_train[i][j],2)\n",
    "        new_X_train2[i][j] = new_row\n",
    "\n",
    "new_X_test2 = np.empty([len(new_X_test),10,2])\n",
    "#new_X_train = np.reshape(new_X_train,(1385,10,3))\n",
    "for i in range(len(new_X_test)):\n",
    "    for j in range(10):\n",
    "        new_row = np.delete(new_X_test[i][j],2)\n",
    "        new_X_test2[i][j] = new_row\n",
    "\n",
    "print new_X_train2[0][0]\n",
    "print new_X_test2[0][0]"
   ]
  },
  {
   "cell_type": "code",
   "execution_count": 17,
   "metadata": {},
   "outputs": [
    {
     "name": "stdout",
     "output_type": "stream",
     "text": [
      "Train on 1246 samples, validate on 139 samples\n",
      "Epoch 1/90\n",
      "1246/1246 [==============================] - 1s - loss: 0.0273 - acc: 0.0000e+00 - val_loss: 0.1327 - val_acc: 0.0000e+00\n",
      "Epoch 2/90\n",
      "1246/1246 [==============================] - 0s - loss: 0.0214 - acc: 0.0000e+00 - val_loss: 0.1106 - val_acc: 0.0000e+00\n",
      "Epoch 3/90\n",
      "1246/1246 [==============================] - 0s - loss: 0.0213 - acc: 0.0000e+00 - val_loss: 0.1129 - val_acc: 0.0000e+00\n",
      "Epoch 4/90\n",
      "1246/1246 [==============================] - 0s - loss: 0.0213 - acc: 0.0000e+00 - val_loss: 0.0981 - val_acc: 0.0000e+00\n",
      "Epoch 5/90\n",
      "1246/1246 [==============================] - 1s - loss: 0.0204 - acc: 0.0000e+00 - val_loss: 0.1483 - val_acc: 0.0000e+00\n",
      "Epoch 6/90\n",
      "1246/1246 [==============================] - 2s - loss: 0.0211 - acc: 0.0000e+00 - val_loss: 0.1336 - val_acc: 0.0000e+00\n",
      "Epoch 7/90\n",
      "1246/1246 [==============================] - 2s - loss: 0.0206 - acc: 0.0000e+00 - val_loss: 0.1283 - val_acc: 0.0000e+00\n",
      "Epoch 8/90\n",
      "1246/1246 [==============================] - 0s - loss: 0.0200 - acc: 0.0000e+00 - val_loss: 0.1158 - val_acc: 0.0000e+00\n",
      "Epoch 9/90\n",
      "1246/1246 [==============================] - 0s - loss: 0.0200 - acc: 0.0000e+00 - val_loss: 0.1441 - val_acc: 0.0000e+00\n",
      "Epoch 10/90\n",
      "1246/1246 [==============================] - 0s - loss: 0.0202 - acc: 0.0000e+00 - val_loss: 0.1327 - val_acc: 0.0000e+00\n",
      "Epoch 11/90\n",
      "1246/1246 [==============================] - 0s - loss: 0.0192 - acc: 0.0000e+00 - val_loss: 0.1396 - val_acc: 0.0000e+00\n",
      "Epoch 12/90\n",
      "1246/1246 [==============================] - 0s - loss: 0.0195 - acc: 0.0000e+00 - val_loss: 0.1152 - val_acc: 0.0000e+00\n",
      "Epoch 13/90\n",
      "1246/1246 [==============================] - 0s - loss: 0.0186 - acc: 0.0000e+00 - val_loss: 0.0993 - val_acc: 0.0000e+00\n",
      "Epoch 14/90\n",
      "1246/1246 [==============================] - 0s - loss: 0.0183 - acc: 0.0000e+00 - val_loss: 0.1126 - val_acc: 0.0000e+00\n",
      "Epoch 15/90\n",
      "1246/1246 [==============================] - 0s - loss: 0.0178 - acc: 0.0000e+00 - val_loss: 0.1175 - val_acc: 0.0000e+00\n",
      "Epoch 16/90\n",
      "1246/1246 [==============================] - 0s - loss: 0.0171 - acc: 0.0000e+00 - val_loss: 0.1094 - val_acc: 0.0000e+00\n",
      "Epoch 17/90\n",
      "1246/1246 [==============================] - 0s - loss: 0.0170 - acc: 0.0000e+00 - val_loss: 0.0994 - val_acc: 0.0000e+00\n",
      "Epoch 18/90\n",
      "1246/1246 [==============================] - 0s - loss: 0.0171 - acc: 0.0000e+00 - val_loss: 0.1217 - val_acc: 0.0000e+00\n",
      "Epoch 19/90\n",
      "1246/1246 [==============================] - 0s - loss: 0.0171 - acc: 0.0000e+00 - val_loss: 0.1253 - val_acc: 0.0000e+00\n",
      "Epoch 20/90\n",
      "1246/1246 [==============================] - 0s - loss: 0.0169 - acc: 0.0000e+00 - val_loss: 0.1013 - val_acc: 0.0000e+00\n",
      "Epoch 21/90\n",
      "1246/1246 [==============================] - 0s - loss: 0.0169 - acc: 0.0000e+00 - val_loss: 0.0992 - val_acc: 0.0000e+00\n",
      "Epoch 22/90\n",
      "1246/1246 [==============================] - 0s - loss: 0.0161 - acc: 0.0000e+00 - val_loss: 0.1177 - val_acc: 0.0000e+00\n",
      "Epoch 23/90\n",
      "1246/1246 [==============================] - 0s - loss: 0.0165 - acc: 0.0000e+00 - val_loss: 0.1162 - val_acc: 0.0000e+00\n",
      "Epoch 24/90\n",
      "1246/1246 [==============================] - 0s - loss: 0.0158 - acc: 0.0000e+00 - val_loss: 0.1358 - val_acc: 0.0000e+00\n",
      "Epoch 25/90\n",
      "1246/1246 [==============================] - 0s - loss: 0.0157 - acc: 0.0000e+00 - val_loss: 0.1233 - val_acc: 0.0000e+00\n",
      "Epoch 26/90\n",
      "1246/1246 [==============================] - 0s - loss: 0.0155 - acc: 0.0000e+00 - val_loss: 0.1209 - val_acc: 0.0000e+00\n",
      "Epoch 27/90\n",
      "1246/1246 [==============================] - 0s - loss: 0.0155 - acc: 0.0000e+00 - val_loss: 0.1225 - val_acc: 0.0000e+00\n",
      "Epoch 28/90\n",
      "1246/1246 [==============================] - 0s - loss: 0.0156 - acc: 0.0000e+00 - val_loss: 0.1067 - val_acc: 0.0000e+00\n",
      "Epoch 29/90\n",
      "1246/1246 [==============================] - 0s - loss: 0.0154 - acc: 0.0000e+00 - val_loss: 0.0914 - val_acc: 0.0000e+00\n",
      "Epoch 30/90\n",
      "1246/1246 [==============================] - 0s - loss: 0.0148 - acc: 0.0000e+00 - val_loss: 0.1204 - val_acc: 0.0000e+00\n",
      "Epoch 31/90\n",
      "1246/1246 [==============================] - 0s - loss: 0.0149 - acc: 0.0000e+00 - val_loss: 0.1056 - val_acc: 0.0000e+00\n",
      "Epoch 32/90\n",
      "1246/1246 [==============================] - 1s - loss: 0.0147 - acc: 0.0000e+00 - val_loss: 0.1207 - val_acc: 0.0000e+00\n",
      "Epoch 33/90\n",
      "1246/1246 [==============================] - 0s - loss: 0.0148 - acc: 0.0000e+00 - val_loss: 0.1215 - val_acc: 0.0000e+00\n",
      "Epoch 34/90\n",
      "1246/1246 [==============================] - 0s - loss: 0.0148 - acc: 0.0000e+00 - val_loss: 0.1319 - val_acc: 0.0000e+00\n",
      "Epoch 35/90\n",
      "1246/1246 [==============================] - 1s - loss: 0.0145 - acc: 0.0000e+00 - val_loss: 0.1170 - val_acc: 0.0000e+00\n",
      "Epoch 36/90\n",
      "1246/1246 [==============================] - 1s - loss: 0.0144 - acc: 0.0000e+00 - val_loss: 0.1212 - val_acc: 0.0000e+00\n",
      "Epoch 37/90\n",
      "1246/1246 [==============================] - 1s - loss: 0.0142 - acc: 0.0000e+00 - val_loss: 0.1175 - val_acc: 0.0000e+00\n",
      "Epoch 38/90\n",
      "1246/1246 [==============================] - 1s - loss: 0.0145 - acc: 0.0000e+00 - val_loss: 0.1031 - val_acc: 0.0000e+00\n",
      "Epoch 39/90\n",
      "1246/1246 [==============================] - 1s - loss: 0.0144 - acc: 0.0000e+00 - val_loss: 0.1090 - val_acc: 0.0000e+00\n",
      "Epoch 40/90\n",
      "1246/1246 [==============================] - 1s - loss: 0.0141 - acc: 0.0000e+00 - val_loss: 0.1129 - val_acc: 0.0000e+00\n",
      "Epoch 41/90\n",
      "1246/1246 [==============================] - 1s - loss: 0.0143 - acc: 0.0000e+00 - val_loss: 0.1228 - val_acc: 0.0000e+00\n",
      "Epoch 42/90\n",
      "1246/1246 [==============================] - 1s - loss: 0.0142 - acc: 0.0000e+00 - val_loss: 0.1180 - val_acc: 0.0000e+00\n",
      "Epoch 43/90\n",
      "1246/1246 [==============================] - 0s - loss: 0.0141 - acc: 0.0000e+00 - val_loss: 0.1057 - val_acc: 0.0000e+00\n",
      "Epoch 44/90\n",
      "1246/1246 [==============================] - 0s - loss: 0.0142 - acc: 0.0000e+00 - val_loss: 0.1151 - val_acc: 0.0000e+00\n",
      "Epoch 45/90\n",
      "1246/1246 [==============================] - 0s - loss: 0.0143 - acc: 0.0000e+00 - val_loss: 0.1143 - val_acc: 0.0000e+00\n",
      "Epoch 46/90\n",
      "1246/1246 [==============================] - 1s - loss: 0.0139 - acc: 0.0000e+00 - val_loss: 0.1101 - val_acc: 0.0000e+00\n",
      "Epoch 47/90\n",
      "1246/1246 [==============================] - 1s - loss: 0.0141 - acc: 0.0000e+00 - val_loss: 0.1165 - val_acc: 0.0000e+00\n",
      "Epoch 48/90\n",
      "1246/1246 [==============================] - 1s - loss: 0.0141 - acc: 0.0000e+00 - val_loss: 0.1156 - val_acc: 0.0000e+00\n",
      "Epoch 49/90\n",
      "1246/1246 [==============================] - 1s - loss: 0.0137 - acc: 0.0000e+00 - val_loss: 0.1254 - val_acc: 0.0000e+00\n",
      "Epoch 50/90\n",
      "1246/1246 [==============================] - 1s - loss: 0.0140 - acc: 0.0000e+00 - val_loss: 0.1132 - val_acc: 0.0000e+00\n",
      "Epoch 51/90\n",
      "1246/1246 [==============================] - 1s - loss: 0.0140 - acc: 0.0000e+00 - val_loss: 0.1132 - val_acc: 0.0000e+00\n",
      "Epoch 52/90\n",
      "1246/1246 [==============================] - 1s - loss: 0.0139 - acc: 0.0000e+00 - val_loss: 0.1168 - val_acc: 0.0000e+00\n",
      "Epoch 53/90\n",
      "1246/1246 [==============================] - 2s - loss: 0.0141 - acc: 0.0000e+00 - val_loss: 0.1187 - val_acc: 0.0000e+00\n",
      "Epoch 54/90\n",
      "1246/1246 [==============================] - 1s - loss: 0.0141 - acc: 0.0000e+00 - val_loss: 0.1062 - val_acc: 0.0000e+00\n",
      "Epoch 55/90\n",
      "1246/1246 [==============================] - 1s - loss: 0.0139 - acc: 0.0000e+00 - val_loss: 0.1140 - val_acc: 0.0000e+00\n",
      "Epoch 56/90\n",
      "1246/1246 [==============================] - 0s - loss: 0.0139 - acc: 0.0000e+00 - val_loss: 0.1168 - val_acc: 0.0000e+00TA: 0s - loss: 0.0140 - acc: 0.0000e+0\n",
      "Epoch 57/90\n",
      "1246/1246 [==============================] - 0s - loss: 0.0136 - acc: 0.0000e+00 - val_loss: 0.1160 - val_acc: 0.0000e+00\n",
      "Epoch 58/90\n",
      "1246/1246 [==============================] - 1s - loss: 0.0142 - acc: 0.0000e+00 - val_loss: 0.1150 - val_acc: 0.0000e+00\n",
      "Epoch 59/90\n",
      "1246/1246 [==============================] - 1s - loss: 0.0139 - acc: 0.0000e+00 - val_loss: 0.1196 - val_acc: 0.0000e+00\n",
      "Epoch 60/90\n",
      "1246/1246 [==============================] - 1s - loss: 0.0138 - acc: 0.0000e+00 - val_loss: 0.1060 - val_acc: 0.0000e+00\n",
      "Epoch 61/90\n",
      "1246/1246 [==============================] - 1s - loss: 0.0136 - acc: 0.0000e+00 - val_loss: 0.1178 - val_acc: 0.0000e+00\n",
      "Epoch 62/90\n",
      "1246/1246 [==============================] - 1s - loss: 0.0138 - acc: 0.0000e+00 - val_loss: 0.1166 - val_acc: 0.0000e+00\n",
      "Epoch 63/90\n",
      "1246/1246 [==============================] - 1s - loss: 0.0140 - acc: 0.0000e+00 - val_loss: 0.1169 - val_acc: 0.0000e+00\n",
      "Epoch 64/90\n",
      "1246/1246 [==============================] - 1s - loss: 0.0136 - acc: 0.0000e+00 - val_loss: 0.1068 - val_acc: 0.0000e+00\n",
      "Epoch 65/90\n",
      "1246/1246 [==============================] - 1s - loss: 0.0139 - acc: 0.0000e+00 - val_loss: 0.1204 - val_acc: 0.0000e+00\n",
      "Epoch 66/90\n",
      "1246/1246 [==============================] - 1s - loss: 0.0138 - acc: 0.0000e+00 - val_loss: 0.1037 - val_acc: 0.0000e+00\n",
      "Epoch 67/90\n",
      "1246/1246 [==============================] - 1s - loss: 0.0137 - acc: 0.0000e+00 - val_loss: 0.1110 - val_acc: 0.0000e+00\n",
      "Epoch 68/90\n",
      "1246/1246 [==============================] - 1s - loss: 0.0137 - acc: 0.0000e+00 - val_loss: 0.1113 - val_acc: 0.0000e+00\n",
      "Epoch 69/90\n",
      "1246/1246 [==============================] - 1s - loss: 0.0137 - acc: 0.0000e+00 - val_loss: 0.1178 - val_acc: 0.0000e+00\n",
      "Epoch 70/90\n",
      "1246/1246 [==============================] - 0s - loss: 0.0137 - acc: 0.0000e+00 - val_loss: 0.1128 - val_acc: 0.0000e+00\n",
      "Epoch 71/90\n",
      "1246/1246 [==============================] - 0s - loss: 0.0136 - acc: 0.0000e+00 - val_loss: 0.1152 - val_acc: 0.0000e+00\n",
      "Epoch 72/90\n",
      "1246/1246 [==============================] - 0s - loss: 0.0138 - acc: 0.0000e+00 - val_loss: 0.1020 - val_acc: 0.0000e+00\n",
      "Epoch 73/90\n",
      "1246/1246 [==============================] - 0s - loss: 0.0139 - acc: 0.0000e+00 - val_loss: 0.1053 - val_acc: 0.0000e+00\n",
      "Epoch 74/90\n",
      "1246/1246 [==============================] - 1s - loss: 0.0138 - acc: 0.0000e+00 - val_loss: 0.1113 - val_acc: 0.0000e+00\n",
      "Epoch 75/90\n",
      "1246/1246 [==============================] - 1s - loss: 0.0137 - acc: 0.0000e+00 - val_loss: 0.1087 - val_acc: 0.0000e+00\n",
      "Epoch 76/90\n",
      "1246/1246 [==============================] - 1s - loss: 0.0139 - acc: 0.0000e+00 - val_loss: 0.1117 - val_acc: 0.0000e+00\n",
      "Epoch 77/90\n",
      "1246/1246 [==============================] - 0s - loss: 0.0138 - acc: 0.0000e+00 - val_loss: 0.1048 - val_acc: 0.0000e+00\n",
      "Epoch 78/90\n",
      "1246/1246 [==============================] - 1s - loss: 0.0138 - acc: 0.0000e+00 - val_loss: 0.1147 - val_acc: 0.0000e+00\n",
      "Epoch 79/90\n",
      "1246/1246 [==============================] - 1s - loss: 0.0136 - acc: 0.0000e+00 - val_loss: 0.1111 - val_acc: 0.0000e+00\n",
      "Epoch 80/90\n",
      "1246/1246 [==============================] - 1s - loss: 0.0137 - acc: 0.0000e+00 - val_loss: 0.1166 - val_acc: 0.0000e+00\n",
      "Epoch 81/90\n",
      "1246/1246 [==============================] - 1s - loss: 0.0139 - acc: 0.0000e+00 - val_loss: 0.1078 - val_acc: 0.0000e+00\n",
      "Epoch 82/90\n",
      "1246/1246 [==============================] - 1s - loss: 0.0137 - acc: 0.0000e+00 - val_loss: 0.0977 - val_acc: 0.0000e+00\n",
      "Epoch 83/90\n",
      "1246/1246 [==============================] - 1s - loss: 0.0138 - acc: 0.0000e+00 - val_loss: 0.1113 - val_acc: 0.0000e+00\n",
      "Epoch 84/90\n",
      "1246/1246 [==============================] - 2s - loss: 0.0138 - acc: 0.0000e+00 - val_loss: 0.1008 - val_acc: 0.0000e+00\n",
      "Epoch 85/90\n",
      "1246/1246 [==============================] - 0s - loss: 0.0136 - acc: 0.0000e+00 - val_loss: 0.1149 - val_acc: 0.0000e+00\n",
      "Epoch 86/90\n",
      "1246/1246 [==============================] - 1s - loss: 0.0137 - acc: 0.0000e+00 - val_loss: 0.1062 - val_acc: 0.0000e+00\n",
      "Epoch 87/90\n",
      "1246/1246 [==============================] - 0s - loss: 0.0136 - acc: 0.0000e+00 - val_loss: 0.1214 - val_acc: 0.0000e+00\n",
      "Epoch 88/90\n",
      "1246/1246 [==============================] - 0s - loss: 0.0136 - acc: 0.0000e+00 - val_loss: 0.1155 - val_acc: 0.0000e+00\n",
      "Epoch 89/90\n",
      "1246/1246 [==============================] - 1s - loss: 0.0135 - acc: 0.0000e+00 - val_loss: 0.1047 - val_acc: 0.0000e+00\n",
      "Epoch 90/90\n",
      "1246/1246 [==============================] - 1s - loss: 0.0135 - acc: 0.0000e+00 - val_loss: 0.0952 - val_acc: 0.0000e+00\n",
      "('compilation time : ', 151.20600008964539)\n"
     ]
    }
   ],
   "source": [
    "# create model\n",
    "model2 = create_model(InputShape = (10,2))\n",
    "start = time.time()\n",
    "model2.fit(new_X_train2,y_train,batch_size=50,epochs=90,validation_split=0.1,verbose=1)\n",
    "print ('compilation time : ', time.time() - start)"
   ]
  },
  {
   "cell_type": "code",
   "execution_count": 18,
   "metadata": {},
   "outputs": [
    {
     "name": "stdout",
     "output_type": "stream",
     "text": [
      "Train Score: 0.02279 MSE (0.15 RMSE)\n",
      "Test Score: 0.15175 MSE (0.39 RMSE)\n"
     ]
    }
   ],
   "source": [
    "model_score(model2, new_X_train2, y_train, new_X_test2, y_test)"
   ]
  },
  {
   "cell_type": "code",
   "execution_count": 19,
   "metadata": {},
   "outputs": [
    {
     "name": "stderr",
     "output_type": "stream",
     "text": [
      "C:\\Users\\User\\Anaconda2\\lib\\site-packages\\sklearn\\preprocessing\\data.py:374: DeprecationWarning: Passing 1d arrays as data is deprecated in 0.17 and will raise ValueError in 0.19. Reshape your data either using X.reshape(-1, 1) if your data has a single feature or X.reshape(1, -1) if it contains a single sample.\n",
      "  warnings.warn(DEPRECATION_MSG_1D, DeprecationWarning)\n"
     ]
    },
    {
     "data": {
      "image/png": "[encoded data removed]",
      "text/plain": [
       "<matplotlib.figure.Figure at 0xd9f39390>"
      ]
     },
     "metadata": {},
     "output_type": "display_data"
    }
   ],
   "source": [
    "pred2 = model2.predict(new_X_test2)\n",
    "Predictions2 = min_max_scaler.inverse_transform(pred2)\n",
    "Actual = min_max_scaler.inverse_transform(y_test)\n",
    "\n",
    "import matplotlib.pyplot as plt2\n",
    "\n",
    "plt2.plot(Predictions2,color='red', label='Prediction')\n",
    "plt2.plot(Actual,color='blue', label='Actual')\n",
    "plt2.legend(loc='best')\n",
    "plt2.show()"
   ]
  },
  {
   "cell_type": "markdown",
   "metadata": {},
   "source": [
    "This model has a slightly lower RMSE. We can improve its accuracy by one of the following ways.  \n",
    "1) Having more data     \n",
    "2) Using a timeseries split and train multiple models and averaging.   \n",
    "\n",
    "To measure it's robustness, let's take the test data and vary it slightly by 1%."
   ]
  },
  {
   "cell_type": "code",
   "execution_count": 20,
   "metadata": {},
   "outputs": [
    {
     "name": "stdout",
     "output_type": "stream",
     "text": [
      "0.00343647\n"
     ]
    }
   ],
   "source": [
    "Result1 = model2.predict(new_X_test2)\n",
    "Result2 = model2.predict(new_X_test2*1.01)\n",
    "\n",
    "print np.mean((Result2 - Result1)/ Result1)"
   ]
  },
  {
   "cell_type": "markdown",
   "metadata": {},
   "source": [
    "A 1% change in the values gives us a 0.3% change on average in this sample data. This suggests that the model is robust. There are no huge deviations."
   ]
  },
  {
   "cell_type": "markdown",
   "metadata": {},
   "source": [
    "# Comparison to benchmark"
   ]
  },
  {
   "cell_type": "markdown",
   "metadata": {},
   "source": [
    "We will use our model to predict the final value"
   ]
  },
  {
   "cell_type": "code",
   "execution_count": 39,
   "metadata": {},
   "outputs": [
    {
     "name": "stdout",
     "output_type": "stream",
     "text": [
      "Model predicts 62.39172\n",
      "Actual result is 143.67999\n"
     ]
    }
   ],
   "source": [
    "TestValue = new_X_test2[-1].reshape(1,10,2)\n",
    "PredictedValue = model2.predict(TestValue)\n",
    "print 'Model predicts %.5F' % min_max_scaler.inverse_transform(PredictedValue)\n",
    "print 'Actual result is %.5F' % min_max_scaler.inverse_transform([[y_test[-1]]])"
   ]
  },
  {
   "cell_type": "markdown",
   "metadata": {},
   "source": [
    "Our prediction varies from the benchmark which is the naïve base line model that outputs a stock price on whatever the input is today or i.e. no change in stock price. The result is inaccurate and we have mentioned methods that may increase the accuracy of the model. Next, we will try another approach using Support vector regression."
   ]
  },
  {
   "cell_type": "code",
   "execution_count": 48,
   "metadata": {
    "collapsed": true
   },
   "outputs": [],
   "source": [
    "nx, ny, nz =  new_X_train.shape\n",
    "X_train_dataset = new_X_train.reshape((nx,ny*nz))"
   ]
  },
  {
   "cell_type": "code",
   "execution_count": 49,
   "metadata": {},
   "outputs": [
    {
     "data": {
      "text/plain": [
       "SVR(C=1.0, cache_size=200, coef0=0.0, degree=2, epsilon=0.2, gamma='auto',\n",
       "  kernel='rbf', max_iter=-1, shrinking=True, tol=0.001, verbose=False)"
      ]
     },
     "execution_count": 49,
     "metadata": {},
     "output_type": "execute_result"
    }
   ],
   "source": [
    "from sklearn.svm import SVR\n",
    "clf = SVR(C=1.0, kernel='rbf', degree=2, epsilon=0.2)\n",
    "clf.fit(X_train_dataset, y_train) "
   ]
  },
  {
   "cell_type": "code",
   "execution_count": 50,
   "metadata": {
    "collapsed": true
   },
   "outputs": [],
   "source": [
    "nx1, ny1, nz1 =  new_X_test.shape\n",
    "X_test_dataset = new_X_test.reshape((nx1,ny1*nz1))\n",
    "y_predicted = clf.predict(X_test_dataset)"
   ]
  },
  {
   "cell_type": "code",
   "execution_count": 51,
   "metadata": {},
   "outputs": [
    {
     "name": "stderr",
     "output_type": "stream",
     "text": [
      "C:\\Users\\User\\Anaconda2\\lib\\site-packages\\sklearn\\preprocessing\\data.py:374: DeprecationWarning: Passing 1d arrays as data is deprecated in 0.17 and will raise ValueError in 0.19. Reshape your data either using X.reshape(-1, 1) if your data has a single feature or X.reshape(1, -1) if it contains a single sample.\n",
      "  warnings.warn(DEPRECATION_MSG_1D, DeprecationWarning)\n"
     ]
    }
   ],
   "source": [
    "Predictions3= min_max_scaler.inverse_transform(y_predicted)"
   ]
  },
  {
   "cell_type": "code",
   "execution_count": 52,
   "metadata": {},
   "outputs": [
    {
     "name": "stderr",
     "output_type": "stream",
     "text": [
      "C:\\Users\\User\\Anaconda2\\lib\\site-packages\\sklearn\\preprocessing\\data.py:374: DeprecationWarning: Passing 1d arrays as data is deprecated in 0.17 and will raise ValueError in 0.19. Reshape your data either using X.reshape(-1, 1) if your data has a single feature or X.reshape(1, -1) if it contains a single sample.\n",
      "  warnings.warn(DEPRECATION_MSG_1D, DeprecationWarning)\n"
     ]
    },
    {
     "data": {
      "image/png": "[encoded data removed]",
      "text/plain": [
       "<matplotlib.figure.Figure at 0xdbd146d8>"
      ]
     },
     "metadata": {},
     "output_type": "display_data"
    }
   ],
   "source": [
    "import matplotlib.pyplot as plt2\n",
    "Actual = min_max_scaler.inverse_transform(y_test)\n",
    "plt2.plot(Predictions3,color='red', label='Prediction')\n",
    "plt2.plot(Actual,color='blue', label='Actual')\n",
    "plt2.legend(loc='best')\n",
    "plt2.show()"
   ]
  },
  {
   "cell_type": "markdown",
   "metadata": {},
   "source": [
    "This model doesn't do any better than our initial one either which suggests that we may need more data or other features."
   ]
  },
  {
   "cell_type": "markdown",
   "metadata": {},
   "source": [
    "# Summary"
   ]
  },
  {
   "cell_type": "markdown",
   "metadata": {},
   "source": [
    "Doing a model that can closely model the stock price movements is not an easy task. There are many parameters and features that have to be accounted for. For example, sudden events that take place within the company or events at a huge scale such as a presidential election affect the movement of the stock prices. Thus both fundamental analysis of the company and technical analysis of the market sentiments is hardly enough. There are many other techniques that can be integrated to predict a stock price. For example, monitoring news feed for information on certain decisions made by the company, studying a company ahead in the supply chain, etc. Our model is a simple one. However it does better than the naïve base benchmark.   \n",
    "      "
   ]
  },
  {
   "cell_type": "markdown",
   "metadata": {},
   "source": [
    "From just two or three features as seen, it is interesting that one can build a model with data using machine learning techniques. We started out with public information and studied the data. Time series data are rarely normal which is a common assumption for many machine learning techniques and probablisitic predictors. Hence, that is one main challenge we would face. Fortunately, a Neural Network can approximate any function and this is done without assumptions, it only depends on data and network configuration.    \n",
    "We preprocessed the data by scaling down the data range so that the sigmoid function would be more effective and we grouped our data according to the input and output that we desired, 10 days worth of features as input and price on t+1 as output. Then, we created a network configuration. This part is indeed a challenge. Trying to determine optimal hyperparameters and how deep we want our network to be is a tradeoff with the time taken to train the model. Furthermore, they pose the dilemma of the bias-variance tradeoff. If we have a very deep neural network, we may be overfitting to our training set. A simpler one would not be as accurate which is our case. One way we can overcome this is to try different number of layers, do a grid search on our hyperparameters or make our data more stochastic with dropouts, etc. However, this would take time. And from the perspective of stock prices we need speed depending on the frequency of our trades. Whenever we have new information, retraining a model and optimising it is certainly a challenge.      \n",
    "After we trained our model, we observed that there are huge deviations towards the end of the model. We suspected from the data that one of our features may be causing it and true enough, the model became more accurate in terms of root mean square error after we removed it. Perhaps we could assign different weights to each of the features. We would then have to optimise more hyperparameters as well.     \n",
    "We also tried to use a support vector regression model to predict stock prices to compare with our neural network. It seemed that we definitely require more data or more features for more accurate results. And this poses another challenge that some of the features may not be available publicly for some stocks.   \n",
    "Another interesting aspect is that one can build such a model simply based on data and with an understanding of simple mathematics. "
   ]
  },
  {
   "cell_type": "markdown",
   "metadata": {},
   "source": [
    "Possible improvements have been suggested above. We could have more data, more features and other more complex models. However, it is still difficult to ensure that we have captured all possible features. Stock prediction is an art and a science."
   ]
  },
  {
   "cell_type": "markdown",
   "metadata": {},
   "source": [
    "# References: \n",
    "\n",
    "https://www.kaggle.com/benjibb/lstm-stock-prediction-20170507\n",
    "\n",
    "http://machinelearningmastery.com/save-load-machine-learning-models-python-scikit-learn/\n",
    "\n",
    "http://machinelearningmastery.com/grid-search-hyperparameters-deep-learning-models-python-keras/\n",
    "\n",
    "http://machinelearningmastery.com/backtest-machine-learning-models-time-series-forecasting/\n",
    "\n",
    "https://deeplearning4j.org/lstm.html#long\n",
    "\n",
    "http://machinelearningmastery.com/time-series-prediction-lstm-recurrent-neural-networks-python-keras/"
   ]
  }
 ],
 "metadata": {
  "kernelspec": {
   "display_name": "Python 2",
   "language": "python",
   "name": "python2"
  },
  "language_info": {
   "codemirror_mode": {
    "name": "ipython",
    "version": 2
   },
   "file_extension": ".py",
   "mimetype": "text/x-python",
   "name": "python",
   "nbconvert_exporter": "python",
   "pygments_lexer": "ipython2",
   "version": "2.7.13"
  }
 },
 "nbformat": 4,
 "nbformat_minor": 2
}
